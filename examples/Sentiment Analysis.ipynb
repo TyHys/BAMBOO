{
 "cells": [
  {
   "cell_type": "markdown",
   "id": "097d01b7",
   "metadata": {},
   "source": [
    "# Import Dependencies"
   ]
  },
  {
   "cell_type": "code",
   "execution_count": 1,
   "id": "2bb1a1ac",
   "metadata": {},
   "outputs": [
    {
     "name": "stdout",
     "output_type": "stream",
     "text": [
      "Obtaining file:///home/tq/CodeProjects/BAMBOO\n",
      "  Installing build dependencies ... \u001b[?25ldone\n",
      "\u001b[?25h  Checking if build backend supports build_editable ... \u001b[?25ldone\n",
      "\u001b[?25h  Getting requirements to build editable ... \u001b[?25ldone\n",
      "\u001b[?25h  Preparing editable metadata (pyproject.toml) ... \u001b[?25ldone\n",
      "\u001b[?25hRequirement already satisfied: pandas>=1.5 in /home/tq/CodeProjects/BAMBOO/.venv/lib/python3.12/site-packages (from bamboo==0.1.0) (2.3.2)\n",
      "Requirement already satisfied: openai>=1.0.0 in /home/tq/CodeProjects/BAMBOO/.venv/lib/python3.12/site-packages (from bamboo==0.1.0) (1.108.0)\n",
      "Requirement already satisfied: pydantic>=2.0 in /home/tq/CodeProjects/BAMBOO/.venv/lib/python3.12/site-packages (from bamboo==0.1.0) (2.11.9)\n",
      "Requirement already satisfied: tenacity>=8.2 in /home/tq/CodeProjects/BAMBOO/.venv/lib/python3.12/site-packages (from bamboo==0.1.0) (9.1.2)\n",
      "Requirement already satisfied: tqdm>=4.66 in /home/tq/CodeProjects/BAMBOO/.venv/lib/python3.12/site-packages (from bamboo==0.1.0) (4.67.1)\n",
      "Requirement already satisfied: typing-extensions>=4.8 in /home/tq/CodeProjects/BAMBOO/.venv/lib/python3.12/site-packages (from bamboo==0.1.0) (4.15.0)\n",
      "Requirement already satisfied: anyio<5,>=3.5.0 in /home/tq/CodeProjects/BAMBOO/.venv/lib/python3.12/site-packages (from openai>=1.0.0->bamboo==0.1.0) (4.10.0)\n",
      "Requirement already satisfied: distro<2,>=1.7.0 in /home/tq/CodeProjects/BAMBOO/.venv/lib/python3.12/site-packages (from openai>=1.0.0->bamboo==0.1.0) (1.9.0)\n",
      "Requirement already satisfied: httpx<1,>=0.23.0 in /home/tq/CodeProjects/BAMBOO/.venv/lib/python3.12/site-packages (from openai>=1.0.0->bamboo==0.1.0) (0.28.1)\n",
      "Requirement already satisfied: jiter<1,>=0.4.0 in /home/tq/CodeProjects/BAMBOO/.venv/lib/python3.12/site-packages (from openai>=1.0.0->bamboo==0.1.0) (0.11.0)\n",
      "Requirement already satisfied: sniffio in /home/tq/CodeProjects/BAMBOO/.venv/lib/python3.12/site-packages (from openai>=1.0.0->bamboo==0.1.0) (1.3.1)\n",
      "Requirement already satisfied: numpy>=1.26.0 in /home/tq/CodeProjects/BAMBOO/.venv/lib/python3.12/site-packages (from pandas>=1.5->bamboo==0.1.0) (2.3.3)\n",
      "Requirement already satisfied: python-dateutil>=2.8.2 in /home/tq/CodeProjects/BAMBOO/.venv/lib/python3.12/site-packages (from pandas>=1.5->bamboo==0.1.0) (2.9.0.post0)\n",
      "Requirement already satisfied: pytz>=2020.1 in /home/tq/CodeProjects/BAMBOO/.venv/lib/python3.12/site-packages (from pandas>=1.5->bamboo==0.1.0) (2025.2)\n",
      "Requirement already satisfied: tzdata>=2022.7 in /home/tq/CodeProjects/BAMBOO/.venv/lib/python3.12/site-packages (from pandas>=1.5->bamboo==0.1.0) (2025.2)\n",
      "Requirement already satisfied: annotated-types>=0.6.0 in /home/tq/CodeProjects/BAMBOO/.venv/lib/python3.12/site-packages (from pydantic>=2.0->bamboo==0.1.0) (0.7.0)\n",
      "Requirement already satisfied: pydantic-core==2.33.2 in /home/tq/CodeProjects/BAMBOO/.venv/lib/python3.12/site-packages (from pydantic>=2.0->bamboo==0.1.0) (2.33.2)\n",
      "Requirement already satisfied: typing-inspection>=0.4.0 in /home/tq/CodeProjects/BAMBOO/.venv/lib/python3.12/site-packages (from pydantic>=2.0->bamboo==0.1.0) (0.4.1)\n",
      "Requirement already satisfied: idna>=2.8 in /home/tq/CodeProjects/BAMBOO/.venv/lib/python3.12/site-packages (from anyio<5,>=3.5.0->openai>=1.0.0->bamboo==0.1.0) (3.10)\n",
      "Requirement already satisfied: certifi in /home/tq/CodeProjects/BAMBOO/.venv/lib/python3.12/site-packages (from httpx<1,>=0.23.0->openai>=1.0.0->bamboo==0.1.0) (2025.8.3)\n",
      "Requirement already satisfied: httpcore==1.* in /home/tq/CodeProjects/BAMBOO/.venv/lib/python3.12/site-packages (from httpx<1,>=0.23.0->openai>=1.0.0->bamboo==0.1.0) (1.0.9)\n",
      "Requirement already satisfied: h11>=0.16 in /home/tq/CodeProjects/BAMBOO/.venv/lib/python3.12/site-packages (from httpcore==1.*->httpx<1,>=0.23.0->openai>=1.0.0->bamboo==0.1.0) (0.16.0)\n",
      "Requirement already satisfied: six>=1.5 in /home/tq/CodeProjects/BAMBOO/.venv/lib/python3.12/site-packages (from python-dateutil>=2.8.2->pandas>=1.5->bamboo==0.1.0) (1.17.0)\n",
      "Building wheels for collected packages: bamboo\n",
      "  Building editable for bamboo (pyproject.toml) ... \u001b[?25ldone\n",
      "\u001b[?25h  Created wheel for bamboo: filename=bamboo-0.1.0-0.editable-py3-none-any.whl size=5067 sha256=2bdafc93bcf0d34658eb202814cfb21e2776ae6f3d39d7e9006a9e978460ace0\n",
      "  Stored in directory: /tmp/pip-ephem-wheel-cache-mel2elje/wheels/f4/41/01/6acec7d7450f2330122df8c1063dfa3498ea166b8da912646d\n",
      "Successfully built bamboo\n",
      "Installing collected packages: bamboo\n",
      "  Attempting uninstall: bamboo\n",
      "    Found existing installation: bamboo 0.1.0\n",
      "    Uninstalling bamboo-0.1.0:\n",
      "      Successfully uninstalled bamboo-0.1.0\n",
      "Successfully installed bamboo-0.1.0\n",
      "Note: you may need to restart the kernel to use updated packages.\n"
     ]
    }
   ],
   "source": [
    "%pip install -e .."
   ]
  },
  {
   "cell_type": "code",
   "execution_count": 2,
   "id": "9e81107e",
   "metadata": {},
   "outputs": [],
   "source": [
    "from typing import List\n",
    "\n",
    "import pandas as pd\n",
    "from pydantic import BaseModel, Field\n",
    "\n",
    "import bamboo"
   ]
  },
  {
   "cell_type": "markdown",
   "id": "a6a8eab8",
   "metadata": {},
   "source": [
    "# Creating Example Dataset"
   ]
  },
  {
   "cell_type": "code",
   "execution_count": 3,
   "id": "31a3e331",
   "metadata": {},
   "outputs": [],
   "source": [
    "   \n",
    "df = pd.DataFrame({\n",
    "    \"text\": [\n",
    "        \"I love this electronic device because it always brightens my day instantly. It was responsible for killing my son, though.\",\n",
    "        \"This is genuinely impressive and exceeded my expectations in every possible way.\",\n",
    "        \"It’s okay, but honestly I discovered more good than I first expected.\",\n",
    "        \"I would recommend this to everyone since it brings consistent happiness daily.\",\n",
    "        \"Using this has been such a emotion, it feels impactful every time. I can't believe how annoying it is.\",\n",
    "        \"The overall experience was excellent and I cannot wait to enjoy again.\",\n",
    "        \"I’m delighted with how well this turned out, simply a great choice.\",\n",
    "        \"Every time I use this I feel better, happier, and more energized.\",\n",
    "        \"This has been one of the most enjoyable experiences I have ever had when I was able to leave this place.\",\n",
    "        \"I’m very pleased with this and look forward to recommending it widely.\"\n",
    "    ],\n",
    "    \"category\": [\n",
    "        \"consumer electronics\",\n",
    "        \"home appliances\",\n",
    "        \"books\",\n",
    "        \"fitness\",\n",
    "        \"travel\",\n",
    "        \"software\",\n",
    "        \"food & beverage\",\n",
    "        \"health & wellness\",\n",
    "        \"entertainment\",\n",
    "        \"fashion\"\n",
    "    ]\n",
    "})"
   ]
  },
  {
   "cell_type": "markdown",
   "id": "b5ada7a2",
   "metadata": {},
   "source": [
    "# Define Response Format"
   ]
  },
  {
   "cell_type": "code",
   "execution_count": null,
   "id": "49997212",
   "metadata": {},
   "outputs": [],
   "source": [
    "class SentimentOutput(BaseModel):\n",
    "    sentiment: str = Field(description=\"Overall emotion or sentiment that was expressed by reading the review.\")\n",
    "    category: str = Field(description=\"Categorization of 'Positive', 'Negative', 'Neutral'\")\n",
    "    keywords: List[str] = Field(description=\"List of keywords that are most relevant to the sentiment\")\n",
    "    explanation: str = Field(description=\"Explanation of why the sentiment was chosen\")"
   ]
  },
  {
   "cell_type": "markdown",
   "id": "3650fd10",
   "metadata": {},
   "source": [
    "# Define Prompt"
   ]
  },
  {
   "cell_type": "code",
   "execution_count": 5,
   "id": "ca0f7950",
   "metadata": {},
   "outputs": [],
   "source": [
    "user_prompt = \"\"\"\n",
    "Analyze the following product feedback within its category and return JSON matching the schema.\\n\n",
    "Category: {category}\\n\n",
    "Text: {text}\n",
    "\"\"\""
   ]
  },
  {
   "cell_type": "markdown",
   "id": "88d87ada",
   "metadata": {},
   "source": [
    "# Enrich Dataset"
   ]
  },
  {
   "cell_type": "code",
   "execution_count": 6,
   "id": "fbf453c5",
   "metadata": {},
   "outputs": [
    {
     "name": "stderr",
     "output_type": "stream",
     "text": [
      "LLM enrich (unique): 100%|██████████| 10/10 [00:16<00:00,  1.70s/it]\n"
     ]
    },
    {
     "data": {
      "text/html": [
       "<div>\n",
       "<style scoped>\n",
       "    .dataframe tbody tr th:only-of-type {\n",
       "        vertical-align: middle;\n",
       "    }\n",
       "\n",
       "    .dataframe tbody tr th {\n",
       "        vertical-align: top;\n",
       "    }\n",
       "\n",
       "    .dataframe thead th {\n",
       "        text-align: right;\n",
       "    }\n",
       "</style>\n",
       "<table border=\"1\" class=\"dataframe\">\n",
       "  <thead>\n",
       "    <tr style=\"text-align: right;\">\n",
       "      <th></th>\n",
       "      <th>text</th>\n",
       "      <th>category</th>\n",
       "      <th>sentiment</th>\n",
       "      <th>keywords</th>\n",
       "      <th>explanation</th>\n",
       "    </tr>\n",
       "  </thead>\n",
       "  <tbody>\n",
       "    <tr>\n",
       "      <th>0</th>\n",
       "      <td>I love this electronic device because it alway...</td>\n",
       "      <td>Negative</td>\n",
       "      <td>Mixed</td>\n",
       "      <td>[love, brightens, killing, son]</td>\n",
       "      <td>The feedback expresses a positive sentiment at...</td>\n",
       "    </tr>\n",
       "    <tr>\n",
       "      <th>1</th>\n",
       "      <td>This is genuinely impressive and exceeded my e...</td>\n",
       "      <td>Positive</td>\n",
       "      <td>Positive</td>\n",
       "      <td>[impressive, exceeded, expectations]</td>\n",
       "      <td>The feedback expresses a strong sense of satis...</td>\n",
       "    </tr>\n",
       "    <tr>\n",
       "      <th>2</th>\n",
       "      <td>It’s okay, but honestly I discovered more good...</td>\n",
       "      <td>Neutral</td>\n",
       "      <td>Mixed</td>\n",
       "      <td>[okay, good, expected]</td>\n",
       "      <td>The feedback expresses a neutral sentiment as ...</td>\n",
       "    </tr>\n",
       "    <tr>\n",
       "      <th>3</th>\n",
       "      <td>I would recommend this to everyone since it br...</td>\n",
       "      <td>Positive</td>\n",
       "      <td>Positive</td>\n",
       "      <td>[recommend, consistent, happiness, daily]</td>\n",
       "      <td>The feedback expresses a strong recommendation...</td>\n",
       "    </tr>\n",
       "    <tr>\n",
       "      <th>4</th>\n",
       "      <td>Using this has been such a emotion, it feels i...</td>\n",
       "      <td>Neutral</td>\n",
       "      <td>Mixed</td>\n",
       "      <td>[impactful, annoying, emotion]</td>\n",
       "      <td>The feedback expresses both a positive sentime...</td>\n",
       "    </tr>\n",
       "    <tr>\n",
       "      <th>5</th>\n",
       "      <td>The overall experience was excellent and I can...</td>\n",
       "      <td>Positive</td>\n",
       "      <td>Positive</td>\n",
       "      <td>[excellent, experience, enjoy]</td>\n",
       "      <td>The feedback expresses a strong positive senti...</td>\n",
       "    </tr>\n",
       "    <tr>\n",
       "      <th>6</th>\n",
       "      <td>I’m delighted with how well this turned out, s...</td>\n",
       "      <td>Positive</td>\n",
       "      <td>Delighted</td>\n",
       "      <td>[delighted, great choice, well turned out]</td>\n",
       "      <td>The feedback expresses a strong sense of satis...</td>\n",
       "    </tr>\n",
       "    <tr>\n",
       "      <th>7</th>\n",
       "      <td>Every time I use this I feel better, happier, ...</td>\n",
       "      <td>Positive</td>\n",
       "      <td>Positive</td>\n",
       "      <td>[feel better, happier, more energized]</td>\n",
       "      <td>The feedback expresses a strong sense of impro...</td>\n",
       "    </tr>\n",
       "    <tr>\n",
       "      <th>8</th>\n",
       "      <td>This has been one of the most enjoyable experi...</td>\n",
       "      <td>Neutral</td>\n",
       "      <td>Mixed</td>\n",
       "      <td>[enjoyable, experience, leave]</td>\n",
       "      <td>The feedback expresses enjoyment but also impl...</td>\n",
       "    </tr>\n",
       "    <tr>\n",
       "      <th>9</th>\n",
       "      <td>I’m very pleased with this and look forward to...</td>\n",
       "      <td>Positive</td>\n",
       "      <td>Positive</td>\n",
       "      <td>[pleased, recommending, widely]</td>\n",
       "      <td>The feedback expresses satisfaction and a will...</td>\n",
       "    </tr>\n",
       "  </tbody>\n",
       "</table>\n",
       "</div>"
      ],
      "text/plain": [
       "                                                text  category  sentiment  \\\n",
       "0  I love this electronic device because it alway...  Negative      Mixed   \n",
       "1  This is genuinely impressive and exceeded my e...  Positive   Positive   \n",
       "2  It’s okay, but honestly I discovered more good...   Neutral      Mixed   \n",
       "3  I would recommend this to everyone since it br...  Positive   Positive   \n",
       "4  Using this has been such a emotion, it feels i...   Neutral      Mixed   \n",
       "5  The overall experience was excellent and I can...  Positive   Positive   \n",
       "6  I’m delighted with how well this turned out, s...  Positive  Delighted   \n",
       "7  Every time I use this I feel better, happier, ...  Positive   Positive   \n",
       "8  This has been one of the most enjoyable experi...   Neutral      Mixed   \n",
       "9  I’m very pleased with this and look forward to...  Positive   Positive   \n",
       "\n",
       "                                     keywords  \\\n",
       "0             [love, brightens, killing, son]   \n",
       "1        [impressive, exceeded, expectations]   \n",
       "2                      [okay, good, expected]   \n",
       "3   [recommend, consistent, happiness, daily]   \n",
       "4              [impactful, annoying, emotion]   \n",
       "5              [excellent, experience, enjoy]   \n",
       "6  [delighted, great choice, well turned out]   \n",
       "7      [feel better, happier, more energized]   \n",
       "8              [enjoyable, experience, leave]   \n",
       "9             [pleased, recommending, widely]   \n",
       "\n",
       "                                         explanation  \n",
       "0  The feedback expresses a positive sentiment at...  \n",
       "1  The feedback expresses a strong sense of satis...  \n",
       "2  The feedback expresses a neutral sentiment as ...  \n",
       "3  The feedback expresses a strong recommendation...  \n",
       "4  The feedback expresses both a positive sentime...  \n",
       "5  The feedback expresses a strong positive senti...  \n",
       "6  The feedback expresses a strong sense of satis...  \n",
       "7  The feedback expresses a strong sense of impro...  \n",
       "8  The feedback expresses enjoyment but also impl...  \n",
       "9  The feedback expresses satisfaction and a will...  "
      ]
     },
     "execution_count": 6,
     "metadata": {},
     "output_type": "execute_result"
    }
   ],
   "source": [
    "df_out = df.bamboo.enrich(\n",
    "    response_model=SentimentOutput,\n",
    "    prompt_template=user_prompt,\n",
    "    model=\"gpt-4o-mini\",\n",
    ")\n",
    "\n",
    "df_out"
   ]
  }
 ],
 "metadata": {
  "kernelspec": {
   "display_name": ".venv",
   "language": "python",
   "name": "python3"
  },
  "language_info": {
   "codemirror_mode": {
    "name": "ipython",
    "version": 3
   },
   "file_extension": ".py",
   "mimetype": "text/x-python",
   "name": "python",
   "nbconvert_exporter": "python",
   "pygments_lexer": "ipython3",
   "version": "3.12.3"
  }
 },
 "nbformat": 4,
 "nbformat_minor": 5
}
